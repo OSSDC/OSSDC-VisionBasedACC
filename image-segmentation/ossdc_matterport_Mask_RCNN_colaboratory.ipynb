{
  "nbformat": 4,
  "nbformat_minor": 0,
  "metadata": {
    "colab": {
      "name": "ossdc_matterport_Mask_RCNN_colaboratory.ipynb",
      "version": "0.3.2",
      "views": {},
      "default_view": {},
      "provenance": [
        {
          "file_id": "1x7iSkWQslnpQ0PTPjUqBq1Oq8DCbCQkQ",
          "timestamp": 1517598210942
        }
      ],
      "private_outputs": true,
      "collapsed_sections": []
    },
    "kernelspec": {
      "name": "python3",
      "display_name": "Python 3"
    },
    "accelerator": "GPU"
  },
  "cells": [
    {
      "metadata": {
        "id": "mgmIKKsD3PBX",
        "colab_type": "text"
      },
      "cell_type": "markdown",
      "source": [
        "Use this IPython notebook on [Google Colaboratory](https://colab.research.google.com) to run Mask R-CNN object detection with image segmentation.\n",
        "\n",
        "> Mask R-CNN for object detection and instance segmentation on Keras and TensorFlow\n",
        "\n",
        "> https://github.com/matterport/Mask_RCNN/\n",
        "\n",
        "Make sure you enable GPU in Colaboratory using menu path Runtime -> Change runtime type\n",
        "\n",
        "Join our efforts in [Open Source Self Driving Car Initiative](http://OSSDC.org)!"
      ]
    },
    {
      "metadata": {
        "id": "00usouZ1pCZ2",
        "colab_type": "code",
        "colab": {
          "autoexec": {
            "startup": false,
            "wait_interval": 0
          }
        }
      },
      "cell_type": "code",
      "source": [
        "import os\n",
        "import sys\n",
        "import random\n",
        "import math\n",
        "import numpy as np\n",
        "import skimage.io\n",
        "import matplotlib\n",
        "import matplotlib.pyplot as plt\n",
        "\n",
        "# for timing\n",
        "import time\n",
        "\n"
      ],
      "execution_count": 0,
      "outputs": []
    },
    {
      "metadata": {
        "id": "c9hHX0W6u50E",
        "colab_type": "code",
        "colab": {
          "autoexec": {
            "startup": false,
            "wait_interval": 0
          }
        }
      },
      "cell_type": "code",
      "source": [
        "# https://keras.io/\n",
        "!pip install -q keras\n",
        "import keras"
      ],
      "execution_count": 0,
      "outputs": []
    },
    {
      "metadata": {
        "id": "s_oBzu68rJh2",
        "colab_type": "code",
        "colab": {
          "autoexec": {
            "startup": false,
            "wait_interval": 0
          }
        }
      },
      "cell_type": "code",
      "source": [
        "# pre-trained COCO weights\n",
        "# https://github.com/matterport/Mask_RCNN/releases/download/v2.0/mask_rcnn_coco.h5\n",
        "!wget https://github.com/matterport/Mask_RCNN/releases/download/v2.0/mask_rcnn_coco.h5\n",
        "!ls"
      ],
      "execution_count": 0,
      "outputs": []
    },
    {
      "metadata": {
        "id": "MD6hQiarpTmk",
        "colab_type": "code",
        "colab": {
          "autoexec": {
            "startup": false,
            "wait_interval": 0
          }
        }
      },
      "cell_type": "code",
      "source": [
        "# Archieved source code\n",
        "# https://github.com/matterport/Mask_RCNN/archive/v2.0.zip\n",
        "\n",
        "# just in case\n",
        "!rm -rf Mask_RCNN-2.0\n",
        "\n",
        "!wget https://github.com/matterport/Mask_RCNN/archive/v2.0.zip\n",
        "!unzip v2.0.zip\n",
        "\n",
        "sys.path.append('.')\n",
        "\n",
        "!cp -r Mask_RCNN-2.0/* .\n",
        "\n",
        "# clean up\n",
        "!rm -rf Mask_RCNN-2.0\n",
        "!rm v2.0.zip\n",
        "\n",
        "!ls\n"
      ],
      "execution_count": 0,
      "outputs": []
    },
    {
      "metadata": {
        "id": "4TC5CPZgq0hl",
        "colab_type": "code",
        "colab": {
          "autoexec": {
            "startup": false,
            "wait_interval": 0
          }
        }
      },
      "cell_type": "code",
      "source": [
        "# required by coco\n",
        "!pip install Cython\n",
        "\n",
        "# install pycoctools\n",
        "!git clone https://github.com/waleedka/coco.git\n",
        "!cd coco/PythonAPI/ && make install\n",
        "!cd ../../\n",
        "\n",
        "import coco\n",
        "import utils\n",
        "import model as modellib\n",
        "import visualize"
      ],
      "execution_count": 0,
      "outputs": []
    },
    {
      "metadata": {
        "id": "BmAdYHlbvAKF",
        "colab_type": "code",
        "colab": {
          "autoexec": {
            "startup": false,
            "wait_interval": 0
          }
        }
      },
      "cell_type": "code",
      "source": [
        "%matplotlib inline \n",
        "\n",
        "# Root directory of the project\n",
        "ROOT_DIR = os.getcwd()\n",
        "\n",
        "# Directory to save logs and trained model\n",
        "MODEL_DIR = os.path.join(ROOT_DIR, \"logs\")\n",
        "\n",
        "# Local path to trained weights file\n",
        "COCO_MODEL_PATH = os.path.join(ROOT_DIR, \"mask_rcnn_coco.h5\")\n",
        "# Download COCO trained weights from Releases if needed\n",
        "if not os.path.exists(COCO_MODEL_PATH):\n",
        "    utils.download_trained_weights(COCO_MODEL_PATH)\n",
        "\n",
        "# Directory of images to run detection on\n",
        "IMAGE_DIR = os.path.join(ROOT_DIR, \"images\")"
      ],
      "execution_count": 0,
      "outputs": []
    },
    {
      "metadata": {
        "id": "S60mcU6BvHCU",
        "colab_type": "code",
        "colab": {
          "autoexec": {
            "startup": false,
            "wait_interval": 0
          }
        }
      },
      "cell_type": "code",
      "source": [
        "class InferenceConfig(coco.CocoConfig):\n",
        "    # Set batch size to 1 since we'll be running inference on\n",
        "    # one image at a time. Batch size = GPU_COUNT * IMAGES_PER_GPU\n",
        "    GPU_COUNT = 1\n",
        "    IMAGES_PER_GPU = 1\n",
        "\n",
        "config = InferenceConfig()\n",
        "config.display()"
      ],
      "execution_count": 0,
      "outputs": []
    },
    {
      "metadata": {
        "id": "lS4JS6yl0idu",
        "colab_type": "code",
        "colab": {
          "autoexec": {
            "startup": false,
            "wait_interval": 0
          }
        }
      },
      "cell_type": "code",
      "source": [
        "# Create model object in inference mode.\n",
        "model = modellib.MaskRCNN(mode=\"inference\", model_dir=MODEL_DIR, config=config)\n",
        "\n",
        "# Load weights trained on MS-COCO\n",
        "model.load_weights(COCO_MODEL_PATH, by_name=True)"
      ],
      "execution_count": 0,
      "outputs": []
    },
    {
      "metadata": {
        "id": "wU4ZaiGO0opW",
        "colab_type": "code",
        "colab": {
          "autoexec": {
            "startup": false,
            "wait_interval": 0
          }
        }
      },
      "cell_type": "code",
      "source": [
        "# COCO Class names\n",
        "# Index of the class in the list is its ID. For example, to get ID of\n",
        "# the teddy bear class, use: class_names.index('teddy bear')\n",
        "class_names = ['BG', 'person', 'bicycle', 'car', 'motorcycle', 'airplane',\n",
        "               'bus', 'train', 'truck', 'boat', 'traffic light',\n",
        "               'fire hydrant', 'stop sign', 'parking meter', 'bench', 'bird',\n",
        "               'cat', 'dog', 'horse', 'sheep', 'cow', 'elephant', 'bear',\n",
        "               'zebra', 'giraffe', 'backpack', 'umbrella', 'handbag', 'tie',\n",
        "               'suitcase', 'frisbee', 'skis', 'snowboard', 'sports ball',\n",
        "               'kite', 'baseball bat', 'baseball glove', 'skateboard',\n",
        "               'surfboard', 'tennis racket', 'bottle', 'wine glass', 'cup',\n",
        "               'fork', 'knife', 'spoon', 'bowl', 'banana', 'apple',\n",
        "               'sandwich', 'orange', 'broccoli', 'carrot', 'hot dog', 'pizza',\n",
        "               'donut', 'cake', 'chair', 'couch', 'potted plant', 'bed',\n",
        "               'dining table', 'toilet', 'tv', 'laptop', 'mouse', 'remote',\n",
        "               'keyboard', 'cell phone', 'microwave', 'oven', 'toaster',\n",
        "               'sink', 'refrigerator', 'book', 'clock', 'vase', 'scissors',\n",
        "               'teddy bear', 'hair drier', 'toothbrush']"
      ],
      "execution_count": 0,
      "outputs": []
    },
    {
      "metadata": {
        "id": "WdbwBQrK4Cmc",
        "colab_type": "code",
        "colab": {
          "autoexec": {
            "startup": false,
            "wait_interval": 0
          }
        }
      },
      "cell_type": "code",
      "source": [
        "!wget https://raw.githubusercontent.com/OSSDC/OSSDC-VisionBasedACC/master/object_detection/common.py\n",
        "precision = 10\n",
        "from datetime import datetime\n",
        "\n",
        "def getCurrentClock():\n",
        "    #return time.clock()\n",
        "    return datetime.now()\n",
        "\n",
        "# start timer here\n",
        "start_time = getCurrentClock()"
      ],
      "execution_count": 0,
      "outputs": []
    },
    {
      "metadata": {
        "id": "F3Ta0Fkb7E_G",
        "colab_type": "code",
        "colab": {
          "autoexec": {
            "startup": false,
            "wait_interval": 0
          }
        }
      },
      "cell_type": "code",
      "source": [
        "!apt-get -qq install -y libsm6 libxext6 && pip install -q -U opencv-python && pip install -q -U pafy"
      ],
      "execution_count": 0,
      "outputs": []
    },
    {
      "metadata": {
        "id": "mh-sFfl2udoD",
        "colab_type": "code",
        "colab": {
          "autoexec": {
            "startup": false,
            "wait_interval": 0
          }
        }
      },
      "cell_type": "code",
      "source": [
        "os.environ['PAFY_BACKEND'] = 'internal'"
      ],
      "execution_count": 0,
      "outputs": []
    },
    {
      "metadata": {
        "id": "hhOWePw9g0z0",
        "colab_type": "code",
        "colab": {
          "autoexec": {
            "startup": false,
            "wait_interval": 0
          }
        }
      },
      "cell_type": "code",
      "source": [
        "import time, pafy\n",
        "\n",
        "#start_time = time.time()\n",
        "\n",
        "#A smooth drive in The Crew on PS4 - OSSDC Simulator ACC Train 30fps\n",
        "url = 'https://www.youtube.com/watch?v=uuQlMCMT71I'\n",
        "\n",
        "#Bad weather sample, uncomment this line to see how the detection works on bad weather\n",
        "#url = \"https://www.youtube.com/watch?v=q3q26xrigX4\"\n",
        "\n",
        "#url= ... #put your Youtube video URL here and uncomment the line, to test on a different video\n",
        "\n",
        "def getVideoURL(url):\n",
        "    videoUrl = url\n",
        "    video = pafy.new(url)\n",
        "    streams = video.streams\n",
        "    videoUrlList={}\n",
        "    for s in streams:\n",
        "        videoUrlList[s.resolution] = s.url\n",
        "        #print(s.resolution, s.extension, s.get_filesize(), s.url)\n",
        "\n",
        "    if videoUrlList.get(\"1280x720\",None) is not None:\n",
        "        videoUrl = videoUrlList.get(\"1280x720\",None)\n",
        "        print(\"1280x720\")\n",
        "\n",
        "    if videoUrlList.get(\"1920x1080\",None) is not None:\n",
        "        videoUrl = videoUrlList.get(\"1920x1080\",None)\n",
        "        print(\"1920x1080\")\n",
        "    return videoUrl\n",
        "\n",
        "origVideoUrl = url\n",
        "\n",
        "if \"youtube.\" in url: \n",
        "    videoUrl = getVideoURL(url)\n",
        "    !wget -q -O video-test.mp4 '$videoUrl' #streaming directly doesn't work in Colaboratory yet, need to save the file on disk first\n",
        "else:\n",
        "    videoUrl = url\n",
        "\n",
        "print(\"videoUrl =\",videoUrl)\n",
        "videoUrl='video-test.mp4'"
      ],
      "execution_count": 0,
      "outputs": []
    },
    {
      "metadata": {
        "id": "3gqZzKUw0tJn",
        "colab_type": "code",
        "colab": {
          "autoexec": {
            "startup": false,
            "wait_interval": 0
          }
        }
      },
      "cell_type": "code",
      "source": [
        "# Load a random image from the images folder\n",
        "file_names = next(os.walk(IMAGE_DIR))[2]\n",
        "image = skimage.io.imread(os.path.join(IMAGE_DIR, random.choice(file_names)))\n",
        "\n",
        "# Run detection\n",
        "results = model.detect([image], verbose=1)\n",
        "\n",
        "# Visualize results\n",
        "r = results[0]\n",
        "visualize.display_instances(image, r['rois'], r['masks'], r['class_ids'], \n",
        "                            class_names, r['scores'])\n",
        "\n",
        "#nowMicro = getCurrentClock()\n",
        "#print(\"# %0.4f seconds ---\" % (nowMicro - start_time).total_seconds())\n"
      ],
      "execution_count": 0,
      "outputs": []
    },
    {
      "metadata": {
        "id": "raYNzpE98i08",
        "colab_type": "code",
        "colab": {
          "autoexec": {
            "startup": false,
            "wait_interval": 0
          }
        }
      },
      "cell_type": "code",
      "source": [
        "import sys\n",
        "sys.path.append('.')\n",
        "\n",
        "import cv2\n",
        "\n",
        "def draw_str(dst, target, s):\n",
        "    x, y = target\n",
        "    cv2.putText(dst, s, (x+1, y+1), cv2.FONT_HERSHEY_PLAIN, 1.0, (0, 0, 0), thickness = 2, lineType=cv2.LINE_AA)\n",
        "    cv2.putText(dst, s, (x, y), cv2.FONT_HERSHEY_PLAIN, 1.0, (255, 255, 255), lineType=cv2.LINE_AA)\n",
        "\n",
        "%pylab inline \n",
        "from IPython.display import clear_output\n",
        "\n",
        "cap = cv2.VideoCapture('video-test.mp4')   # /dev/video0\n",
        "\n",
        "showImage=False\n",
        "showImage=True\n",
        "\n",
        "from datetime import datetime\n",
        "\n",
        "def getCurrentClock():\n",
        "    #return time.clock()\n",
        "    return datetime.now()\n",
        "streamImage=False\n",
        "#streamImage=True\n",
        "\n",
        "fpsValue=0\n",
        "tracks=[]\n",
        "frameCnt=0\n",
        "prevFrameCnt=0\n",
        "prevTime=getCurrentClock()\n",
        "\n",
        "\n",
        "import socket\n",
        "if streamImage:\n",
        "  print (your_target_ip,your_target_port)\n",
        "  #on server run this command:\n",
        "  #ffplay -f mjpeg tcp://0.0.0.0:45654?listen\n",
        "  clientsocket=socket.socket(socket.AF_INET,socket.SOCK_STREAM)\n",
        "  clientsocket.connect((your_target_ip,your_target_port)) #the target ip is where the ffplay is listening\n",
        "\n",
        "count = 0\n",
        "while True:\n",
        "  count+=1\n",
        "  ret, image = cap.read()\n",
        "  if not ret:\n",
        "    #print(\"no frame\")\n",
        "    continue\n",
        "\n",
        "  frameCnt=frameCnt+1\n",
        "  nowMicro = getCurrentClock()\n",
        "  delta = (nowMicro-prevTime).total_seconds()\n",
        "  #print(\"%f \" % (delta))\n",
        "  if delta>=1.0:\n",
        "      fpsValue = ((frameCnt-prevFrameCnt)/delta) \n",
        "      #print(\"FPS = %0.4f\" % ((frameCnt-prevFrameCnt)/delta))\n",
        "      prevTime = nowMicro\n",
        "      prevFrameCnt=frameCnt\n",
        "  \n",
        "  nowMicro = getCurrentClock()\n",
        "  # Run detection\n",
        "  results = model.detect([image], verbose=1)\n",
        "  #print(\"# %s - %s - %0.4f seconds ---\" % (frameCnt,rclasses.astype('|S3'), (nowMicro - start_time).total_seconds()))\n",
        "  draw_str(image, (20, 20), \"FPS = %3.2f, %0.4f sec, Track points = %5d, Frame = %6d\" % (fpsValue,(nowMicro - start_time).total_seconds(),len(tracks), frameCnt))\n",
        "  start_time = nowMicro\n",
        "  \n",
        "  if streamImage:\n",
        "    #data = cv2.imencode('.jpg', crop_img)[1].tobytes()\n",
        "    data = cv2.imencode('.jpg', depth)[1].tobytes()\n",
        "    clientsocket.send(data)\n",
        "\n",
        "  if showImage:\n",
        "    if count % 2: #increase or decrease this to clear after more or less frames\n",
        "      # Display the frame until new frame is available\n",
        "      clear_output(wait=True)\n",
        "    # Visualize results\n",
        "    r = results[0]\n",
        "    visualize.display_instances(image, r['rois'], r['masks'], r['class_ids'], \n",
        "                                class_names, r['scores'])      \n",
        "    show()\n",
        "\n",
        "  if(frameCnt==1000):\n",
        "    break\n",
        "      \n",
        "      \n",
        "if streamImage:\n",
        "  clientsocket.close()  "
      ],
      "execution_count": 0,
      "outputs": []
    }
  ]
}